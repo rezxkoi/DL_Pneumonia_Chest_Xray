{
 "cells": [
  {
   "cell_type": "code",
   "execution_count": 1,
   "id": "99806a31",
   "metadata": {},
   "outputs": [],
   "source": [
    "# Import libraries \n",
    "import pandas as pd\n",
    "import numpy as np\n",
    "import matplotlib.pyplot as plt\n",
    "%matplotlib inline\n",
    "import seaborn as sns\n",
    "sns.set_style(\"darkgrid\")\n",
    "import os, shutil\n",
    "from glob import glob"
   ]
  },
  {
   "cell_type": "code",
   "execution_count": 2,
   "id": "fddd02ec",
   "metadata": {},
   "outputs": [],
   "source": [
    "#!pip3 install opencv-python"
   ]
  },
  {
   "cell_type": "code",
   "execution_count": 3,
   "id": "82d504e8",
   "metadata": {},
   "outputs": [],
   "source": [
    "import cv2\n",
    "from keras.preprocessing.image import ImageDataGenerator"
   ]
  },
  {
   "cell_type": "code",
   "execution_count": 4,
   "id": "ec2fbb02",
   "metadata": {},
   "outputs": [],
   "source": [
    "#!pip install split-folders"
   ]
  },
  {
   "cell_type": "code",
   "execution_count": null,
   "id": "202573e1",
   "metadata": {},
   "outputs": [],
   "source": [
    "import splitfolders\n",
    "splitfolders.ratio('Data', output=\"output\", seed=1337, ratio=(.7, 0.1,0.2)) "
   ]
  },
  {
   "cell_type": "markdown",
   "id": "c0e420b2",
   "metadata": {},
   "source": [
    "### Creating data generators"
   ]
  },
  {
   "cell_type": "code",
   "execution_count": 5,
   "id": "669f53d2",
   "metadata": {},
   "outputs": [],
   "source": [
    "image_gen = ImageDataGenerator(rescale=1./255)"
   ]
  },
  {
   "cell_type": "code",
   "execution_count": 6,
   "id": "69e0de7a",
   "metadata": {},
   "outputs": [],
   "source": [
    "train_dir = '/Users/amirreza/Desktop/Metis_ds_ml/Metis_DSML/Projects/6_Deep_Learning_COVID19_Chest_Xray/output/train'\n",
    "val_dir = '/Users/amirreza/Desktop/Metis_ds_ml/Metis_DSML/Projects/6_Deep_Learning_COVID19_Chest_Xray/output/val'\n",
    "test_dir = '/Users/amirreza/Desktop/Metis_ds_ml/Metis_DSML/Projects/6_Deep_Learning_COVID19_Chest_Xray/output/test'"
   ]
  },
  {
   "cell_type": "code",
   "execution_count": 7,
   "id": "304d25f7",
   "metadata": {},
   "outputs": [
    {
     "name": "stdout",
     "output_type": "stream",
     "text": [
      "Found 3650 images belonging to 2 classes.\n",
      "Found 521 images belonging to 2 classes.\n",
      "Found 1045 images belonging to 2 classes.\n"
     ]
    }
   ],
   "source": [
    "batch_size = 80\n",
    "train_generator = image_gen.flow_from_directory(train_dir,\n",
    "                                          target_size=(150,150),\n",
    "                                          batch_size=batch_size,\n",
    "                                          seed=42,\n",
    "                                          shuffle=False,\n",
    "                                          class_mode='binary')\n",
    "val_generator = image_gen.flow_from_directory(val_dir,\n",
    "                                        target_size=(150,150),\n",
    "                                        batch_size=batch_size,\n",
    "                                        seed=42,\n",
    "                                        shuffle=False,\n",
    "                                        class_mode='binary')\n",
    "test_generator = image_gen.flow_from_directory(test_dir,\n",
    "                                        target_size=(150,150),\n",
    "                                        batch_size=batch_size,\n",
    "                                        seed=42,\n",
    "                                        shuffle=False,\n",
    "                                        class_mode='binary')"
   ]
  },
  {
   "cell_type": "code",
   "execution_count": 8,
   "id": "525103de",
   "metadata": {},
   "outputs": [
    {
     "data": {
      "text/plain": [
       "keras.preprocessing.image.DirectoryIterator"
      ]
     },
     "execution_count": 8,
     "metadata": {},
     "output_type": "execute_result"
    }
   ],
   "source": [
    "type(train_generator)"
   ]
  },
  {
   "cell_type": "code",
   "execution_count": 9,
   "id": "36c7ed7d",
   "metadata": {},
   "outputs": [
    {
     "data": {
      "text/plain": [
       "<keras.preprocessing.image.DirectoryIterator at 0x7fc866f56430>"
      ]
     },
     "execution_count": 9,
     "metadata": {},
     "output_type": "execute_result"
    }
   ],
   "source": [
    "train_generator"
   ]
  },
  {
   "cell_type": "code",
   "execution_count": null,
   "id": "f6a303de",
   "metadata": {},
   "outputs": [],
   "source": [
    "#train_generator[0]"
   ]
  },
  {
   "cell_type": "markdown",
   "id": "17d3395f",
   "metadata": {},
   "source": [
    "### CNN Model"
   ]
  },
  {
   "cell_type": "code",
   "execution_count": 10,
   "id": "0c8f297f",
   "metadata": {},
   "outputs": [],
   "source": [
    "from keras.models import Sequential\n",
    "from keras.layers import Dense, Conv2D, MaxPool2D, Flatten, Dropout\n",
    "from keras import optimizers"
   ]
  },
  {
   "cell_type": "code",
   "execution_count": 11,
   "id": "431522ea",
   "metadata": {},
   "outputs": [
    {
     "name": "stderr",
     "output_type": "stream",
     "text": [
      "2021-11-30 19:04:52.255427: I tensorflow/core/platform/cpu_feature_guard.cc:142] This TensorFlow binary is optimized with oneAPI Deep Neural Network Library (oneDNN) to use the following CPU instructions in performance-critical operations:  AVX2 FMA\n",
      "To enable them in other operations, rebuild TensorFlow with the appropriate compiler flags.\n"
     ]
    }
   ],
   "source": [
    "model = Sequential()\n",
    "\n",
    "model.add(Conv2D(32, (3,3),input_shape=(150,150,3),activation='relu'))\n",
    "model.add(MaxPool2D((2,2)))\n",
    "\n",
    "model.add(Conv2D(64, (3,3),activation='relu'))\n",
    "model.add(MaxPool2D((2,2)))\n",
    "\n",
    "model.add(Conv2D(128, (3,3),activation='relu'))\n",
    "model.add(MaxPool2D((2,2)))\n",
    "\n",
    "model.add(Conv2D(128, (3,3),activation='relu'))\n",
    "model.add(MaxPool2D((2,2)))\n",
    "\n",
    "model.add(Flatten())\n",
    "model.add(Dense(512, activation='relu'))\n",
    "model.add(Dense(1, activation='sigmoid'))\n",
    "\n",
    "model.compile(loss='binary_crossentropy',\n",
    "              optimizer='adam',\n",
    "              metrics=['accuracy'])"
   ]
  },
  {
   "cell_type": "code",
   "execution_count": 12,
   "id": "30daa67b",
   "metadata": {},
   "outputs": [
    {
     "name": "stdout",
     "output_type": "stream",
     "text": [
      "Model: \"sequential\"\n",
      "_________________________________________________________________\n",
      "Layer (type)                 Output Shape              Param #   \n",
      "=================================================================\n",
      "conv2d (Conv2D)              (None, 148, 148, 32)      896       \n",
      "_________________________________________________________________\n",
      "max_pooling2d (MaxPooling2D) (None, 74, 74, 32)        0         \n",
      "_________________________________________________________________\n",
      "conv2d_1 (Conv2D)            (None, 72, 72, 64)        18496     \n",
      "_________________________________________________________________\n",
      "max_pooling2d_1 (MaxPooling2 (None, 36, 36, 64)        0         \n",
      "_________________________________________________________________\n",
      "conv2d_2 (Conv2D)            (None, 34, 34, 128)       73856     \n",
      "_________________________________________________________________\n",
      "max_pooling2d_2 (MaxPooling2 (None, 17, 17, 128)       0         \n",
      "_________________________________________________________________\n",
      "conv2d_3 (Conv2D)            (None, 15, 15, 128)       147584    \n",
      "_________________________________________________________________\n",
      "max_pooling2d_3 (MaxPooling2 (None, 7, 7, 128)         0         \n",
      "_________________________________________________________________\n",
      "flatten (Flatten)            (None, 6272)              0         \n",
      "_________________________________________________________________\n",
      "dense (Dense)                (None, 512)               3211776   \n",
      "_________________________________________________________________\n",
      "dense_1 (Dense)              (None, 1)                 513       \n",
      "=================================================================\n",
      "Total params: 3,453,121\n",
      "Trainable params: 3,453,121\n",
      "Non-trainable params: 0\n",
      "_________________________________________________________________\n"
     ]
    }
   ],
   "source": [
    "model.summary()"
   ]
  },
  {
   "cell_type": "code",
   "execution_count": 13,
   "id": "efea0817",
   "metadata": {},
   "outputs": [
    {
     "name": "stderr",
     "output_type": "stream",
     "text": [
      "2021-11-30 19:05:01.637871: I tensorflow/compiler/mlir/mlir_graph_optimization_pass.cc:185] None of the MLIR Optimization Passes are enabled (registered 2)\n"
     ]
    },
    {
     "name": "stdout",
     "output_type": "stream",
     "text": [
      "Epoch 1/30\n",
      "46/46 [==============================] - 113s 2s/step - loss: 1.1355 - accuracy: 0.6989 - val_loss: 0.5931 - val_accuracy: 0.7428\n",
      "Epoch 2/30\n",
      "46/46 [==============================] - 107s 2s/step - loss: 0.6220 - accuracy: 0.7430 - val_loss: 0.6540 - val_accuracy: 0.7428\n",
      "Epoch 3/30\n",
      "46/46 [==============================] - 109s 2s/step - loss: 1.0828 - accuracy: 0.7430 - val_loss: 0.6576 - val_accuracy: 0.7428\n",
      "Epoch 4/30\n",
      "46/46 [==============================] - 103s 2s/step - loss: 0.5796 - accuracy: 0.7474 - val_loss: 0.4485 - val_accuracy: 0.7889\n",
      "Epoch 5/30\n",
      "46/46 [==============================] - 102s 2s/step - loss: 0.4376 - accuracy: 0.8110 - val_loss: 0.3905 - val_accuracy: 0.8177\n",
      "Epoch 6/30\n",
      "46/46 [==============================] - 102s 2s/step - loss: 0.3804 - accuracy: 0.8134 - val_loss: 0.3558 - val_accuracy: 0.8541\n",
      "Epoch 7/30\n",
      "46/46 [==============================] - 102s 2s/step - loss: 0.5148 - accuracy: 0.8049 - val_loss: 0.3654 - val_accuracy: 0.8464\n",
      "Epoch 8/30\n",
      "46/46 [==============================] - 101s 2s/step - loss: 0.3798 - accuracy: 0.8466 - val_loss: 0.3342 - val_accuracy: 0.8637\n",
      "Epoch 9/30\n",
      "46/46 [==============================] - 103s 2s/step - loss: 0.2794 - accuracy: 0.8866 - val_loss: 0.3947 - val_accuracy: 0.8637\n",
      "Epoch 10/30\n",
      "46/46 [==============================] - 102s 2s/step - loss: 0.2428 - accuracy: 0.9036 - val_loss: 0.2062 - val_accuracy: 0.9175\n",
      "Epoch 11/30\n",
      "46/46 [==============================] - 103s 2s/step - loss: 0.1772 - accuracy: 0.9263 - val_loss: 0.2113 - val_accuracy: 0.9232\n",
      "Epoch 12/30\n",
      "46/46 [==============================] - 101s 2s/step - loss: 0.1706 - accuracy: 0.9279 - val_loss: 0.1445 - val_accuracy: 0.9482\n",
      "Epoch 13/30\n",
      "46/46 [==============================] - 102s 2s/step - loss: 0.1477 - accuracy: 0.9499 - val_loss: 0.2037 - val_accuracy: 0.9002\n",
      "Epoch 14/30\n",
      "46/46 [==============================] - 104s 2s/step - loss: 0.1874 - accuracy: 0.9203 - val_loss: 0.1614 - val_accuracy: 0.9443\n",
      "Epoch 15/30\n",
      "46/46 [==============================] - 103s 2s/step - loss: 0.1327 - accuracy: 0.9512 - val_loss: 0.1306 - val_accuracy: 0.9463\n",
      "Epoch 16/30\n",
      "46/46 [==============================] - 102s 2s/step - loss: 0.1132 - accuracy: 0.9592 - val_loss: 0.1456 - val_accuracy: 0.9482\n",
      "Epoch 17/30\n",
      "46/46 [==============================] - 103s 2s/step - loss: 0.0915 - accuracy: 0.9644 - val_loss: 0.1215 - val_accuracy: 0.9539\n",
      "Epoch 18/30\n",
      "46/46 [==============================] - 103s 2s/step - loss: 0.0802 - accuracy: 0.9679 - val_loss: 0.1225 - val_accuracy: 0.9616\n",
      "Epoch 19/30\n",
      "46/46 [==============================] - 103s 2s/step - loss: 0.0560 - accuracy: 0.9786 - val_loss: 0.0998 - val_accuracy: 0.9635\n",
      "Epoch 20/30\n",
      "46/46 [==============================] - 103s 2s/step - loss: 0.0427 - accuracy: 0.9830 - val_loss: 0.1107 - val_accuracy: 0.9635\n",
      "Epoch 21/30\n",
      "46/46 [==============================] - 102s 2s/step - loss: 0.0467 - accuracy: 0.9808 - val_loss: 0.0941 - val_accuracy: 0.9693\n",
      "Epoch 22/30\n",
      "46/46 [==============================] - 102s 2s/step - loss: 0.0332 - accuracy: 0.9888 - val_loss: 0.0905 - val_accuracy: 0.9674\n",
      "Epoch 23/30\n",
      "46/46 [==============================] - 102s 2s/step - loss: 0.0279 - accuracy: 0.9901 - val_loss: 0.0869 - val_accuracy: 0.9712\n",
      "Epoch 24/30\n",
      "46/46 [==============================] - 103s 2s/step - loss: 0.0244 - accuracy: 0.9907 - val_loss: 0.0926 - val_accuracy: 0.9731\n",
      "Epoch 25/30\n",
      "46/46 [==============================] - 104s 2s/step - loss: 0.0213 - accuracy: 0.9932 - val_loss: 0.1498 - val_accuracy: 0.9539\n",
      "Epoch 26/30\n",
      "46/46 [==============================] - 105s 2s/step - loss: 0.0146 - accuracy: 0.9959 - val_loss: 0.1241 - val_accuracy: 0.9655\n",
      "Epoch 27/30\n",
      "46/46 [==============================] - 102s 2s/step - loss: 0.0141 - accuracy: 0.9951 - val_loss: 0.1045 - val_accuracy: 0.9731\n",
      "Epoch 28/30\n",
      "46/46 [==============================] - 103s 2s/step - loss: 0.0101 - accuracy: 0.9973 - val_loss: 0.1136 - val_accuracy: 0.9712\n",
      "Epoch 29/30\n",
      "46/46 [==============================] - 102s 2s/step - loss: 0.0073 - accuracy: 0.9973 - val_loss: 0.1035 - val_accuracy: 0.9750\n",
      "Epoch 30/30\n",
      "46/46 [==============================] - 105s 2s/step - loss: 0.0073 - accuracy: 0.9981 - val_loss: 0.1144 - val_accuracy: 0.9712\n"
     ]
    }
   ],
   "source": [
    "result = model.fit(\n",
    "    train_generator,\n",
    "    #steps_per_epoch=8,\n",
    "    epochs=30,\n",
    "    validation_data=val_generator,\n",
    "    #validation_steps=10\n",
    ")"
   ]
  },
  {
   "cell_type": "code",
   "execution_count": 14,
   "id": "e2950bf4",
   "metadata": {},
   "outputs": [],
   "source": [
    "model.save('model_CNN_1_data.h5')"
   ]
  },
  {
   "cell_type": "markdown",
   "id": "afe6e5da",
   "metadata": {},
   "source": [
    "## Eval on model"
   ]
  },
  {
   "cell_type": "code",
   "execution_count": 15,
   "id": "0750acff",
   "metadata": {},
   "outputs": [
    {
     "data": {
      "text/plain": [
       "[0.6989040970802307,\n",
       " 0.7430136799812317,\n",
       " 0.7430136799812317,\n",
       " 0.747397243976593,\n",
       " 0.8109589219093323,\n",
       " 0.8134246468544006,\n",
       " 0.8049315214157104,\n",
       " 0.8465753197669983,\n",
       " 0.8865753412246704,\n",
       " 0.9035616517066956,\n",
       " 0.9263013601303101,\n",
       " 0.9279451966285706,\n",
       " 0.9498630166053772,\n",
       " 0.9202739596366882,\n",
       " 0.9512328505516052,\n",
       " 0.95917809009552,\n",
       " 0.9643835425376892,\n",
       " 0.9679452180862427,\n",
       " 0.9786301255226135,\n",
       " 0.9830136895179749,\n",
       " 0.9808219075202942,\n",
       " 0.988767147064209,\n",
       " 0.990136981010437,\n",
       " 0.9906849265098572,\n",
       " 0.9931507110595703,\n",
       " 0.9958904385566711,\n",
       " 0.9950684905052185,\n",
       " 0.9972602725028992,\n",
       " 0.9972602725028992,\n",
       " 0.9980822205543518]"
      ]
     },
     "execution_count": 15,
     "metadata": {},
     "output_type": "execute_result"
    }
   ],
   "source": [
    "result.history['accuracy']"
   ]
  },
  {
   "cell_type": "code",
   "execution_count": 16,
   "id": "8390e2a1",
   "metadata": {},
   "outputs": [
    {
     "data": {
      "text/plain": [
       "[<matplotlib.lines.Line2D at 0x7fc7bf79f9a0>]"
      ]
     },
     "execution_count": 16,
     "metadata": {},
     "output_type": "execute_result"
    },
    {
     "data": {
      "image/png": "[encoded data removed]",
      "text/plain": [
       "<Figure size 432x288 with 1 Axes>"
      ]
     },
     "metadata": {},
     "output_type": "display_data"
    }
   ],
   "source": [
    "plt.plot(result.history['accuracy'])"
   ]
  },
  {
   "cell_type": "code",
   "execution_count": 17,
   "id": "166b9541",
   "metadata": {},
   "outputs": [
    {
     "data": {
      "text/plain": [
       "['loss', 'accuracy']"
      ]
     },
     "execution_count": 17,
     "metadata": {},
     "output_type": "execute_result"
    }
   ],
   "source": [
    "model.metrics_names"
   ]
  },
  {
   "cell_type": "code",
   "execution_count": 18,
   "id": "105e4bde",
   "metadata": {},
   "outputs": [
    {
     "data": {
      "image/png": "[encoded data removed]",
      "text/plain": [
       "<Figure size 720x288 with 2 Axes>"
      ]
     },
     "metadata": {},
     "output_type": "display_data"
    }
   ],
   "source": [
    "plt.figure(figsize=(10,4))\n",
    "plt.subplot(1,2,1)\n",
    "\n",
    "plt.plot(result.history['accuracy'], label='train accuracy', color='red')\n",
    "plt.plot(result.history['val_accuracy'], label='validation accuracy', color='blue')\n",
    "plt.legend()\n",
    "\n",
    "plt.subplot(1,2,2)\n",
    "plt.plot(result.history['loss'], label='train loss', color='red')\n",
    "plt.plot(result.history['val_loss'], label='validation loss', color='blue')\n",
    "plt.legend()\n",
    "\n",
    "plt.show()"
   ]
  },
  {
   "cell_type": "code",
   "execution_count": 19,
   "id": "af00dcc6",
   "metadata": {},
   "outputs": [],
   "source": [
    "from sklearn.metrics import confusion_matrix, classification_report"
   ]
  },
  {
   "cell_type": "code",
   "execution_count": 20,
   "id": "51a92c34",
   "metadata": {},
   "outputs": [],
   "source": [
    "prediction = model.predict(test_generator)"
   ]
  },
  {
   "cell_type": "code",
   "execution_count": 21,
   "id": "45c8b419",
   "metadata": {},
   "outputs": [],
   "source": [
    "import math\n",
    "num_of_examples = len(test_generator.filenames)\n",
    "num_of_generator_calls = math.ceil(num_of_examples/(1.0*80))\n",
    "test_labels=[]\n",
    "for i in range(0,int(num_of_generator_calls)):\n",
    "    test_labels.extend(np.array(test_generator[i][1]))"
   ]
  },
  {
   "cell_type": "code",
   "execution_count": 22,
   "id": "dd2f8124",
   "metadata": {},
   "outputs": [
    {
     "data": {
      "text/plain": [
       "{'NORMAL': 0, 'PNEUMONIA': 1}"
      ]
     },
     "execution_count": 22,
     "metadata": {},
     "output_type": "execute_result"
    }
   ],
   "source": [
    "train_generator.class_indices"
   ]
  },
  {
   "cell_type": "code",
   "execution_count": 25,
   "id": "e4460bff",
   "metadata": {},
   "outputs": [
    {
     "data": {
      "text/plain": [
       "list"
      ]
     },
     "execution_count": 25,
     "metadata": {},
     "output_type": "execute_result"
    }
   ],
   "source": [
    "type(test_labels)"
   ]
  },
  {
   "cell_type": "code",
   "execution_count": 26,
   "id": "a0ee53ad",
   "metadata": {},
   "outputs": [
    {
     "data": {
      "text/plain": [
       "numpy.ndarray"
      ]
     },
     "execution_count": 26,
     "metadata": {},
     "output_type": "execute_result"
    }
   ],
   "source": [
    "type(prediction)"
   ]
  },
  {
   "cell_type": "code",
   "execution_count": 29,
   "id": "8c9cc70e",
   "metadata": {},
   "outputs": [],
   "source": [
    "#confusion_matrix(np.array(test_labels), prediction)"
   ]
  },
  {
   "cell_type": "code",
   "execution_count": 28,
   "id": "999deda1",
   "metadata": {},
   "outputs": [
    {
     "data": {
      "image/png": "[encoded data removed]",
      "text/plain": [
       "<Figure size 1800x504 with 2 Axes>"
      ]
     },
     "metadata": {},
     "output_type": "display_data"
    }
   ],
   "source": [
    "plt.figure(figsize=(25,7))\n",
    "plt.subplot(131)\n",
    "ax = sns.heatmap(confusion_matrix(test_generator.labels, prediction.round()),\n",
    "            annot = True, annot_kws={\"size\":20}, fmt=\"d\",cmap = \"Blues\")\n",
    "cmlabels = ['True Negatives', \"False Positives\",\n",
    "               'Flase Negatives', \"True Positives\"]\n",
    "for i,t in enumerate(ax.texts):\n",
    "  t.set_text(t.get_text() + \"\\n\" + cmlabels[i])\n",
    "plt.title('Confusion Matrix', size=25)\n",
    "plt.xlabel('Predicted Outcome', size=20)\n",
    "plt.ylabel('Actual Outcome', size=20)\n",
    "labels = ['Normal', 'Pneumonia']\n",
    "ax.set_xticklabels(labels, size=15)\n",
    "ax.set_yticklabels(labels, size=15)\n",
    "plt.tight_layout()\n",
    "plt.show();"
   ]
  },
  {
   "cell_type": "code",
   "execution_count": 30,
   "id": "53caa66b",
   "metadata": {},
   "outputs": [
    {
     "name": "stdout",
     "output_type": "stream",
     "text": [
      "              precision    recall  f1-score   support\n",
      "\n",
      "         0.0       0.91      0.96      0.93       269\n",
      "         1.0       0.99      0.97      0.98       776\n",
      "\n",
      "    accuracy                           0.96      1045\n",
      "   macro avg       0.95      0.96      0.95      1045\n",
      "weighted avg       0.97      0.96      0.96      1045\n",
      "\n"
     ]
    }
   ],
   "source": [
    "print(classification_report(test_labels, np.round(prediction)))"
   ]
  },
  {
   "cell_type": "code",
   "execution_count": null,
   "id": "a37d7c8d",
   "metadata": {},
   "outputs": [],
   "source": []
  }
 ],
 "metadata": {
  "kernelspec": {
   "display_name": "Python [conda env:metis] *",
   "language": "python",
   "name": "conda-env-metis-py"
  },
  "language_info": {
   "codemirror_mode": {
    "name": "ipython",
    "version": 3
   },
   "file_extension": ".py",
   "mimetype": "text/x-python",
   "name": "python",
   "nbconvert_exporter": "python",
   "pygments_lexer": "ipython3",
   "version": "3.8.10"
  }
 },
 "nbformat": 4,
 "nbformat_minor": 5
}
